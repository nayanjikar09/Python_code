{
 "cells": [
  {
   "cell_type": "code",
   "execution_count": 1,
   "id": "baaa9ec3",
   "metadata": {},
   "outputs": [
    {
     "name": "stdout",
     "output_type": "stream",
     "text": [
      "area of circle is 113.03999999999999\n"
     ]
    }
   ],
   "source": [
    "pi=3.14\n",
    "r=float(input(\"enter the radius\"))\n",
    "area=pi*r*r\n",
    "print(\"area of circle is\",area)"
   ]
  },
  {
   "cell_type": "code",
   "execution_count": 4,
   "id": "b61d63de",
   "metadata": {},
   "outputs": [
    {
     "name": "stdout",
     "output_type": "stream",
     "text": [
      "area of sq is 25.0\n"
     ]
    }
   ],
   "source": [
    "# area of sq\n",
    "side=float(input(\"enter the siede\"))\n",
    "area_sq=side*side\n",
    "print(\"area of sq is\",area_sq)"
   ]
  },
  {
   "cell_type": "code",
   "execution_count": 9,
   "id": "a29521bc",
   "metadata": {},
   "outputs": [
    {
     "name": "stdout",
     "output_type": "stream",
     "text": [
      "10\n"
     ]
    }
   ],
   "source": [
    "n1=5\n",
    "n2=-5\n",
    "if (n1+n2):\n",
    "    print(n1+n2)\n",
    "else:\n",
    "    print(n1-n2)"
   ]
  },
  {
   "cell_type": "code",
   "execution_count": 10,
   "id": "9831dd66",
   "metadata": {},
   "outputs": [
    {
     "name": "stdout",
     "output_type": "stream",
     "text": [
      "1\n",
      "2\n",
      "3\n",
      "4\n",
      "5\n",
      "6\n",
      "7\n",
      "8\n",
      "9\n"
     ]
    }
   ],
   "source": [
    "for i in range(1,10):\n",
    "    print(i)"
   ]
  },
  {
   "cell_type": "code",
   "execution_count": 13,
   "id": "e3d0e5d0",
   "metadata": {},
   "outputs": [
    {
     "name": "stdout",
     "output_type": "stream",
     "text": [
      "1\n",
      "2\n",
      "3\n",
      "4\n",
      "5\n",
      "6\n",
      "7\n",
      "8\n",
      "9\n",
      "10\n"
     ]
    }
   ],
   "source": [
    "i =1\n",
    "while (i<=10):\n",
    "    print(i)\n",
    "    i=i+1"
   ]
  },
  {
   "cell_type": "code",
   "execution_count": null,
   "id": "f2dc67a6",
   "metadata": {},
   "outputs": [
    {
     "name": "stdout",
     "output_type": "stream",
     "text": [
      "hello\n",
      "10\n",
      "hello\n",
      "9\n",
      "hello\n",
      "8\n",
      "hello\n",
      "7\n",
      "hello\n",
      "6\n",
      "hello\n",
      "5\n",
      "hello\n",
      "4\n",
      "hello\n",
      "3\n",
      "hello\n",
      "2\n",
      "hello\n",
      "1\n",
      "by\n"
     ]
    }
   ],
   "source": [
    "i= 10\n",
    "while (i>=1):\n",
    "    print(\"\")\n",
    "    print(i)\n",
    "    i=i-1\n",
    "print('by')"
   ]
  },
  {
   "cell_type": "code",
   "execution_count": null,
   "id": "fc07840e",
   "metadata": {},
   "outputs": [],
   "source": []
  },
  {
   "cell_type": "code",
   "execution_count": 26,
   "id": "71ed076e",
   "metadata": {},
   "outputs": [
    {
     "name": "stdout",
     "output_type": "stream",
     "text": [
      "4\n",
      "8\n",
      "12\n",
      "16\n",
      "20\n",
      "24\n",
      "28\n",
      "32\n",
      "36\n",
      "40\n"
     ]
    }
   ],
   "source": [
    "num=int(input(\"enter the number\"))\n",
    "i=1\n",
    "while (num*i<=num*10):\n",
    "    print(num*i)\n",
    "    i=i+1"
   ]
  },
  {
   "cell_type": "code",
   "execution_count": null,
   "id": "baf2adb3",
   "metadata": {},
   "outputs": [
    {
     "name": "stdout",
     "output_type": "stream",
     "text": [
      "X 6\n",
      "X 5\n",
      "X 4\n",
      "X 3\n",
      "X 2\n",
      "X 1\n"
     ]
    }
   ],
   "source": [
    "#factorial\n",
    "num=int(input(\"enter the enumber\"))\n",
    "fact=1\n",
    "while(num>0):\n",
    "    print('X',num)\n",
    "    num=num-1\n",
    "    "
   ]
  },
  {
   "cell_type": "code",
   "execution_count": null,
   "id": "87665a95",
   "metadata": {},
   "outputs": [],
   "source": [
    "a= int(input(\"entr num\"))\n",
    "b= int(input(\"entr num\"))\n",
    "c=a*b*b\n",
    "print(c)"
   ]
  },
  {
   "cell_type": "code",
   "execution_count": null,
   "id": "a20b9af8",
   "metadata": {},
   "outputs": [],
   "source": []
  },
  {
   "cell_type": "code",
   "execution_count": null,
   "id": "54957e74",
   "metadata": {},
   "outputs": [],
   "source": []
  }
 ],
 "metadata": {
  "kernelspec": {
   "display_name": "Python 3",
   "language": "python",
   "name": "python3"
  },
  "language_info": {
   "codemirror_mode": {
    "name": "ipython",
    "version": 3
   },
   "file_extension": ".py",
   "mimetype": "text/x-python",
   "name": "python",
   "nbconvert_exporter": "python",
   "pygments_lexer": "ipython3",
   "version": "3.11.7"
  }
 },
 "nbformat": 4,
 "nbformat_minor": 5
}
