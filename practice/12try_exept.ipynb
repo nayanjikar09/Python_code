{
 "cells": [
  {
   "cell_type": "code",
   "execution_count": 1,
   "id": "423ac7ad",
   "metadata": {},
   "outputs": [
    {
     "name": "stdout",
     "output_type": "stream",
     "text": [
      "Invalid Input\n"
     ]
    }
   ],
   "source": [
    "try:\n",
    "    num=10\n",
    "    den=0\n",
    "    res=num/den\n",
    "    print(res)\n",
    "except:\n",
    "    print(\"Invalid Input\")"
   ]
  },
  {
   "cell_type": "code",
   "execution_count": 2,
   "id": "a99a7495",
   "metadata": {},
   "outputs": [
    {
     "name": "stdout",
     "output_type": "stream",
     "text": [
      "denominator cannot be 0.\n"
     ]
    }
   ],
   "source": [
    "try:\n",
    "    num=10\n",
    "    den=0\n",
    "    res=num/den\n",
    "    print(res)\n",
    "except ZeroDivisionError:\n",
    "    print(\"denominator cannot be 0.\")\n",
    "except IndexError:\n",
    "    print(\"Index out of Bound.\")\n",
    "    "
   ]
  },
  {
   "cell_type": "code",
   "execution_count": 3,
   "id": "e3e701bb",
   "metadata": {},
   "outputs": [
    {
     "name": "stdout",
     "output_type": "stream",
     "text": [
      "error\n"
     ]
    }
   ],
   "source": [
    "try:\n",
    "     even_numbers=[2,4,6,8]\n",
    "     print(even_numbers['5'])\n",
    "except ZeroDivisionError:\n",
    "     print(\"Denominator canot be 0.\")\n",
    "except IndexError:\n",
    "    print(\"Index out of Bound.\")\n",
    "except:\n",
    "     print(\"error\")"
   ]
  },
  {
   "cell_type": "code",
   "execution_count": 4,
   "id": "571c9717",
   "metadata": {},
   "outputs": [
    {
     "name": "stdout",
     "output_type": "stream",
     "text": [
      "errors: denominator cannot be 0.\n",
      "This is finnaly block\n"
     ]
    }
   ],
   "source": [
    "try:\n",
    "    num=10\n",
    "    den=0\n",
    "\n",
    "    res=num/den\n",
    "\n",
    "    print(res)\n",
    "except:\n",
    "    print(\"errors: denominator cannot be 0.\")\n",
    "\n",
    "finally:\n",
    "    print(\"This is finnaly block\")"
   ]
  },
  {
   "cell_type": "code",
   "execution_count": null,
   "id": "018ff8a6",
   "metadata": {},
   "outputs": [],
   "source": []
  }
 ],
 "metadata": {
  "kernelspec": {
   "display_name": "Python 3",
   "language": "python",
   "name": "python3"
  },
  "language_info": {
   "codemirror_mode": {
    "name": "ipython",
    "version": 3
   },
   "file_extension": ".py",
   "mimetype": "text/x-python",
   "name": "python",
   "nbconvert_exporter": "python",
   "pygments_lexer": "ipython3",
   "version": "3.11.7"
  }
 },
 "nbformat": 4,
 "nbformat_minor": 5
}
