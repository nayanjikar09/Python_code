{
 "cells": [
  {
   "cell_type": "code",
   "execution_count": null,
   "id": "3d26f9aa",
   "metadata": {},
   "outputs": [],
   "source": [
    "def Add(a,b):\n",
    "    c=a+b\n",
    "    d=a-b\n",
    "    print(c)\n",
    "    print(d)\n",
    "\n"
   ]
  },
  {
   "cell_type": "code",
   "execution_count": 15,
   "id": "27dc85d7",
   "metadata": {},
   "outputs": [
    {
     "name": "stdout",
     "output_type": "stream",
     "text": [
      "9\n",
      "1\n"
     ]
    }
   ],
   "source": [
    "x=5\n",
    "y=4\n",
    "Add(x,y)"
   ]
  },
  {
   "cell_type": "code",
   "execution_count": 47,
   "id": "0e29cf37",
   "metadata": {},
   "outputs": [],
   "source": [
    "def add(a,b):\n",
    " c=a+b\n",
    " return(c)\n",
    "\n",
    "def sub(a,b):\n",
    " c=a-b\n",
    " return(c)\n",
    " \n",
    "\n",
    "a=int(input(\"enter value of a\"))\n",
    "b=int(input(\"enter value of b\"))\n",
    "\n"
   ]
  },
  {
   "cell_type": "code",
   "execution_count": 18,
   "id": "96c24105",
   "metadata": {},
   "outputs": [
    {
     "name": "stdout",
     "output_type": "stream",
     "text": [
      "10\n",
      "-4\n"
     ]
    }
   ],
   "source": [
    "Add(3,7)"
   ]
  },
  {
   "cell_type": "code",
   "execution_count": 35,
   "id": "66ca9449",
   "metadata": {},
   "outputs": [
    {
     "name": "stdout",
     "output_type": "stream",
     "text": [
      "enter the number 2.23606797749979\n"
     ]
    }
   ],
   "source": [
    "def add(x):\n",
    "    return x**0.5\n",
    "\n",
    "print(\"enter the number\",add(int(input())))\n"
   ]
  },
  {
   "cell_type": "code",
   "execution_count": null,
   "id": "310aec5d",
   "metadata": {},
   "outputs": [],
   "source": [
    "def shape(a):\n",
    "    a=input(\"enter the shape\")\n",
    "    if a==\"circle\":\n",
    "        r=int(input(\"enter radius\"))\n",
    "        \n"
   ]
  },
  {
   "cell_type": "code",
   "execution_count": 75,
   "id": "15f068ad",
   "metadata": {},
   "outputs": [
    {
     "ename": "NameError",
     "evalue": "name 'cr' is not defined",
     "output_type": "error",
     "traceback": [
      "\u001b[31m---------------------------------------------------------------------------\u001b[39m",
      "\u001b[31mNameError\u001b[39m                                 Traceback (most recent call last)",
      "\u001b[36mCell\u001b[39m\u001b[36m \u001b[39m\u001b[32mIn[75]\u001b[39m\u001b[32m, line 1\u001b[39m\n\u001b[32m----> \u001b[39m\u001b[32m1\u001b[39m shape(\u001b[43mcr\u001b[49m)\n",
      "\u001b[31mNameError\u001b[39m: name 'cr' is not defined"
     ]
    }
   ],
   "source": [
    "shape(cr)"
   ]
  },
  {
   "cell_type": "code",
   "execution_count": 1,
   "id": "46c5bafa",
   "metadata": {},
   "outputs": [],
   "source": [
    "l1=[3,4,5,4,3,2,4]"
   ]
  },
  {
   "cell_type": "code",
   "execution_count": 6,
   "id": "25c6b6ce",
   "metadata": {},
   "outputs": [],
   "source": [
    "def mylen(Data):\n",
    "    c=0\n",
    "    for i in Data:\n",
    "        c+=1\n",
    "    return c"
   ]
  },
  {
   "cell_type": "code",
   "execution_count": 7,
   "id": "ddfb4ff9",
   "metadata": {},
   "outputs": [
    {
     "data": {
      "text/plain": [
       "7"
      ]
     },
     "execution_count": 7,
     "metadata": {},
     "output_type": "execute_result"
    }
   ],
   "source": [
    "mylen(l1)"
   ]
  },
  {
   "cell_type": "code",
   "execution_count": null,
   "id": "b9ecff2f",
   "metadata": {},
   "outputs": [],
   "source": []
  }
 ],
 "metadata": {
  "kernelspec": {
   "display_name": "Python 3",
   "language": "python",
   "name": "python3"
  },
  "language_info": {
   "codemirror_mode": {
    "name": "ipython",
    "version": 3
   },
   "file_extension": ".py",
   "mimetype": "text/x-python",
   "name": "python",
   "nbconvert_exporter": "python",
   "pygments_lexer": "ipython3",
   "version": "3.11.7"
  }
 },
 "nbformat": 4,
 "nbformat_minor": 5
}
