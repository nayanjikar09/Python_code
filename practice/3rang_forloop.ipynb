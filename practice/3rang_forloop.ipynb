{
 "cells": [
  {
   "cell_type": "code",
   "execution_count": 2,
   "id": "93511f19",
   "metadata": {},
   "outputs": [
    {
     "data": {
      "text/plain": [
       "[-11, -10, -9, -8, -7, -6, -5, -4, -3, -2]"
      ]
     },
     "execution_count": 2,
     "metadata": {},
     "output_type": "execute_result"
    }
   ],
   "source": [
    "list(range(-11,-1,1))"
   ]
  },
  {
   "cell_type": "code",
   "execution_count": 6,
   "id": "72593671",
   "metadata": {},
   "outputs": [
    {
     "name": "stdout",
     "output_type": "stream",
     "text": [
      "0\n",
      "2\n",
      "4\n",
      "6\n",
      "8\n",
      "10\n",
      "12\n",
      "14\n",
      "16\n",
      "18\n",
      "20\n"
     ]
    }
   ],
   "source": [
    "for i in range(0,21,2):\n",
    "    print(i)"
   ]
  },
  {
   "cell_type": "code",
   "execution_count": 7,
   "id": "8eb17204",
   "metadata": {},
   "outputs": [
    {
     "name": "stdout",
     "output_type": "stream",
     "text": [
      "10\n",
      "20\n",
      "30\n",
      "40\n",
      "50\n",
      "10 20 30 40 50 "
     ]
    }
   ],
   "source": [
    "x=[10,20,30,40,50]\n",
    "\n",
    "for p in x:\n",
    "    print(p)\n",
    "\n",
    "for p in x:\n",
    "    print(p,end=\" \")"
   ]
  },
  {
   "cell_type": "code",
   "execution_count": 13,
   "id": "e776b182",
   "metadata": {},
   "outputs": [
    {
     "name": "stdout",
     "output_type": "stream",
     "text": [
      "3\n",
      "6\n",
      "9\n",
      "12\n",
      "15\n",
      "18\n",
      "21\n",
      "24\n",
      "27\n",
      "30\n"
     ]
    }
   ],
   "source": [
    "a=int(input(\"enter the num 1\"))\n",
    "# b=int(input(\"enter the num 1\"))\n",
    "\n",
    "for i in range(a,a*10+a,a):\n",
    "    print(i)"
   ]
  },
  {
   "cell_type": "code",
   "execution_count": 14,
   "id": "96dda97b",
   "metadata": {},
   "outputs": [
    {
     "name": "stdout",
     "output_type": "stream",
     "text": [
      "2\n",
      "4\n",
      "6\n",
      "8\n",
      "10\n",
      "12\n",
      "14\n",
      "16\n",
      "18\n",
      "20\n"
     ]
    }
   ],
   "source": [
    "a=int(input(\"enter the num 1\"))\n",
    "\n",
    "for i in range(1,11,):\n",
    "    print(i*a)"
   ]
  },
  {
   "cell_type": "code",
   "execution_count": 19,
   "id": "7f93d76c",
   "metadata": {},
   "outputs": [
    {
     "name": "stdout",
     "output_type": "stream",
     "text": [
      "*****\n",
      "****\n",
      "***\n",
      "**\n"
     ]
    }
   ],
   "source": [
    "a=\"*\"\n",
    "for i in range(5,1,-1):\n",
    "    print(i*a)\n"
   ]
  },
  {
   "cell_type": "code",
   "execution_count": 32,
   "id": "52695757",
   "metadata": {},
   "outputs": [
    {
     "name": "stdout",
     "output_type": "stream",
     "text": [
      "\n",
      "$\n",
      "**\n",
      "$$$\n",
      "****\n",
      "$$$$$\n",
      "******\n"
     ]
    }
   ],
   "source": [
    "a=\"*\"\n",
    "b=\"$\"\n",
    "for i in range(0,7,1):\n",
    "    if(i%2==0):\n",
    "      print(i*a)\n",
    "    else:\n",
    "      print(i*b)"
   ]
  },
  {
   "cell_type": "code",
   "execution_count": 33,
   "id": "b851c822",
   "metadata": {},
   "outputs": [
    {
     "name": "stdout",
     "output_type": "stream",
     "text": [
      "*\n",
      "*\n",
      "*\n",
      "*\n",
      "*\n",
      "*\n",
      "*\n"
     ]
    }
   ],
   "source": [
    "a=\"*\"\n",
    "b=\"$\"\n",
    "for i in range(0,7,i%2==0):\n",
    "    print(a)"
   ]
  },
  {
   "cell_type": "code",
   "execution_count": null,
   "id": "cb4269c0",
   "metadata": {},
   "outputs": [],
   "source": []
  }
 ],
 "metadata": {
  "kernelspec": {
   "display_name": "Python 3",
   "language": "python",
   "name": "python3"
  },
  "language_info": {
   "codemirror_mode": {
    "name": "ipython",
    "version": 3
   },
   "file_extension": ".py",
   "mimetype": "text/x-python",
   "name": "python",
   "nbconvert_exporter": "python",
   "pygments_lexer": "ipython3",
   "version": "3.11.7"
  }
 },
 "nbformat": 4,
 "nbformat_minor": 5
}
