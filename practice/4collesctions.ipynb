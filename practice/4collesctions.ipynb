{
 "cells": [
  {
   "cell_type": "code",
   "execution_count": 20,
   "id": "e3ba9e0e",
   "metadata": {},
   "outputs": [],
   "source": [
    "l1=[12,32,44,33,22,66,55,44,77,88]"
   ]
  },
  {
   "cell_type": "code",
   "execution_count": 21,
   "id": "7b454e9f",
   "metadata": {},
   "outputs": [
    {
     "data": {
      "text/plain": [
       "[12, 32, 44, 33, 22, 66]"
      ]
     },
     "execution_count": 21,
     "metadata": {},
     "output_type": "execute_result"
    }
   ],
   "source": [
    "l1[0:6]"
   ]
  },
  {
   "cell_type": "code",
   "execution_count": null,
   "id": "c91df84a",
   "metadata": {},
   "outputs": [
    {
     "name": "stdout",
     "output_type": "stream",
     "text": [
      "<class 'list'>\n"
     ]
    }
   ],
   "source": [
    "print(type(l1))"
   ]
  },
  {
   "cell_type": "code",
   "execution_count": 23,
   "id": "2075adec",
   "metadata": {},
   "outputs": [],
   "source": [
    "l2=[\"nayan\",9,4,\"data\"]"
   ]
  },
  {
   "cell_type": "code",
   "execution_count": 24,
   "id": "b6713b38",
   "metadata": {},
   "outputs": [
    {
     "data": {
      "text/plain": [
       "'nayan'"
      ]
     },
     "execution_count": 24,
     "metadata": {},
     "output_type": "execute_result"
    }
   ],
   "source": [
    "l2[0]"
   ]
  },
  {
   "cell_type": "code",
   "execution_count": 25,
   "id": "230efde2",
   "metadata": {},
   "outputs": [],
   "source": [
    "tup=(2,4,1,4,1)"
   ]
  },
  {
   "cell_type": "code",
   "execution_count": 26,
   "id": "f2433fa5",
   "metadata": {},
   "outputs": [
    {
     "name": "stdout",
     "output_type": "stream",
     "text": [
      "<class 'tuple'>\n"
     ]
    }
   ],
   "source": [
    "print(type(tup))"
   ]
  },
  {
   "cell_type": "code",
   "execution_count": 28,
   "id": "4b7b4bc6",
   "metadata": {},
   "outputs": [
    {
     "data": {
      "text/plain": [
       "['nayan', 9, 4, 'data']"
      ]
     },
     "execution_count": 28,
     "metadata": {},
     "output_type": "execute_result"
    }
   ],
   "source": [
    "l2[:]"
   ]
  },
  {
   "cell_type": "code",
   "execution_count": null,
   "id": "812575a6",
   "metadata": {},
   "outputs": [],
   "source": []
  }
 ],
 "metadata": {
  "kernelspec": {
   "display_name": "Python 3",
   "language": "python",
   "name": "python3"
  },
  "language_info": {
   "codemirror_mode": {
    "name": "ipython",
    "version": 3
   },
   "file_extension": ".py",
   "mimetype": "text/x-python",
   "name": "python",
   "nbconvert_exporter": "python",
   "pygments_lexer": "ipython3",
   "version": "3.11.7"
  }
 },
 "nbformat": 4,
 "nbformat_minor": 5
}
