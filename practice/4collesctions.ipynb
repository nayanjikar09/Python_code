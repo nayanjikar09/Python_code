{
 "cells": [
  {
   "cell_type": "code",
   "execution_count": 20,
   "id": "e3ba9e0e",
   "metadata": {},
   "outputs": [],
   "source": [
    "l1=[12,32,44,33,22,66,55,44,77,88]"
   ]
  },
  {
   "cell_type": "code",
   "execution_count": 21,
   "id": "7b454e9f",
   "metadata": {},
   "outputs": [
    {
     "data": {
      "text/plain": [
       "[12, 32, 44, 33, 22, 66]"
      ]
     },
     "execution_count": 21,
     "metadata": {},
     "output_type": "execute_result"
    }
   ],
   "source": [
    "l1[0:6]"
   ]
  },
  {
   "cell_type": "code",
   "execution_count": 29,
   "id": "49242b5c",
   "metadata": {},
   "outputs": [],
   "source": [
    "l1.extend([43,42,23,233,32])"
   ]
  },
  {
   "cell_type": "code",
   "execution_count": 43,
   "id": "c61f8cf5",
   "metadata": {},
   "outputs": [
    {
     "data": {
      "text/plain": [
       "[12, 543, 44, 33, 22, 66, 55, 5, 44, 77, 88, 43, 42, 23, 233, 32]"
      ]
     },
     "execution_count": 43,
     "metadata": {},
     "output_type": "execute_result"
    }
   ],
   "source": [
    "l1"
   ]
  },
  {
   "cell_type": "code",
   "execution_count": 48,
   "id": "9952f7c4",
   "metadata": {},
   "outputs": [
    {
     "data": {
      "text/plain": [
       "True"
      ]
     },
     "execution_count": 48,
     "metadata": {},
     "output_type": "execute_result"
    }
   ],
   "source": [
    "88  in l1"
   ]
  },
  {
   "cell_type": "code",
   "execution_count": 42,
   "id": "733bf11f",
   "metadata": {},
   "outputs": [],
   "source": [
    "l1.remove(32)"
   ]
  },
  {
   "cell_type": "code",
   "execution_count": 36,
   "id": "1c3682ca",
   "metadata": {},
   "outputs": [],
   "source": [
    "l1.insert(1,543)"
   ]
  },
  {
   "cell_type": "code",
   "execution_count": 46,
   "id": "b45e39a0",
   "metadata": {},
   "outputs": [
    {
     "data": {
      "text/plain": [
       "16"
      ]
     },
     "execution_count": 46,
     "metadata": {},
     "output_type": "execute_result"
    }
   ],
   "source": [
    "len(l1)"
   ]
  },
  {
   "cell_type": "code",
   "execution_count": 40,
   "id": "72fed088",
   "metadata": {},
   "outputs": [
    {
     "data": {
      "text/plain": [
       "'543'"
      ]
     },
     "execution_count": 40,
     "metadata": {},
     "output_type": "execute_result"
    }
   ],
   "source": [
    "l1.pop(2)"
   ]
  },
  {
   "cell_type": "code",
   "execution_count": null,
   "id": "c91df84a",
   "metadata": {},
   "outputs": [
    {
     "name": "stdout",
     "output_type": "stream",
     "text": [
      "<class 'list'>\n"
     ]
    }
   ],
   "source": [
    "print(type(l1))"
   ]
  },
  {
   "cell_type": "code",
   "execution_count": 23,
   "id": "2075adec",
   "metadata": {},
   "outputs": [],
   "source": [
    "l2=[\"nayan\",9,4,\"data\"]"
   ]
  },
  {
   "cell_type": "code",
   "execution_count": 24,
   "id": "b6713b38",
   "metadata": {},
   "outputs": [
    {
     "data": {
      "text/plain": [
       "'nayan'"
      ]
     },
     "execution_count": 24,
     "metadata": {},
     "output_type": "execute_result"
    }
   ],
   "source": [
    "l2[0]"
   ]
  },
  {
   "cell_type": "code",
   "execution_count": 25,
   "id": "230efde2",
   "metadata": {},
   "outputs": [],
   "source": [
    "tup=(2,4,1,4,1)"
   ]
  },
  {
   "cell_type": "code",
   "execution_count": 26,
   "id": "f2433fa5",
   "metadata": {},
   "outputs": [
    {
     "name": "stdout",
     "output_type": "stream",
     "text": [
      "<class 'tuple'>\n"
     ]
    }
   ],
   "source": [
    "print(type(tup))"
   ]
  },
  {
   "cell_type": "code",
   "execution_count": 28,
   "id": "4b7b4bc6",
   "metadata": {},
   "outputs": [
    {
     "data": {
      "text/plain": [
       "['nayan', 9, 4, 'data']"
      ]
     },
     "execution_count": 28,
     "metadata": {},
     "output_type": "execute_result"
    }
   ],
   "source": [
    "l2[:]"
   ]
  },
  {
   "cell_type": "code",
   "execution_count": 50,
   "id": "812575a6",
   "metadata": {},
   "outputs": [],
   "source": [
    "l3=l1+l2"
   ]
  },
  {
   "cell_type": "code",
   "execution_count": 51,
   "id": "7b9a57ae",
   "metadata": {},
   "outputs": [
    {
     "data": {
      "text/plain": [
       "[12,\n",
       " 543,\n",
       " 44,\n",
       " 33,\n",
       " 22,\n",
       " 66,\n",
       " 55,\n",
       " 5,\n",
       " 44,\n",
       " 77,\n",
       " 88,\n",
       " 43,\n",
       " 42,\n",
       " 23,\n",
       " 233,\n",
       " 32,\n",
       " 'nayan',\n",
       " 9,\n",
       " 4,\n",
       " 'data']"
      ]
     },
     "execution_count": 51,
     "metadata": {},
     "output_type": "execute_result"
    }
   ],
   "source": [
    "l3"
   ]
  },
  {
   "cell_type": "code",
   "execution_count": 52,
   "id": "f61945cb",
   "metadata": {},
   "outputs": [
    {
     "data": {
      "text/plain": [
       "['nayan', 9, 4, 'data', 'nayan', 9, 4, 'data']"
      ]
     },
     "execution_count": 52,
     "metadata": {},
     "output_type": "execute_result"
    }
   ],
   "source": [
    "l2*2"
   ]
  },
  {
   "cell_type": "code",
   "execution_count": 53,
   "id": "1811faba",
   "metadata": {},
   "outputs": [
    {
     "data": {
      "text/plain": [
       "True"
      ]
     },
     "execution_count": 53,
     "metadata": {},
     "output_type": "execute_result"
    }
   ],
   "source": [
    "all(l1)"
   ]
  },
  {
   "cell_type": "code",
   "execution_count": 54,
   "id": "56112289",
   "metadata": {},
   "outputs": [
    {
     "data": {
      "text/plain": [
       "True"
      ]
     },
     "execution_count": 54,
     "metadata": {},
     "output_type": "execute_result"
    }
   ],
   "source": [
    "any(l1)"
   ]
  },
  {
   "cell_type": "code",
   "execution_count": 55,
   "id": "e97b5935",
   "metadata": {},
   "outputs": [],
   "source": [
    "l2.clear()"
   ]
  },
  {
   "cell_type": "code",
   "execution_count": 58,
   "id": "2759e7bf",
   "metadata": {},
   "outputs": [],
   "source": [
    "del l3"
   ]
  },
  {
   "cell_type": "code",
   "execution_count": 59,
   "id": "3e1b8e2d",
   "metadata": {},
   "outputs": [
    {
     "ename": "NameError",
     "evalue": "name 'l3' is not defined",
     "output_type": "error",
     "traceback": [
      "\u001b[31m---------------------------------------------------------------------------\u001b[39m",
      "\u001b[31mNameError\u001b[39m                                 Traceback (most recent call last)",
      "\u001b[36mCell\u001b[39m\u001b[36m \u001b[39m\u001b[32mIn[59]\u001b[39m\u001b[32m, line 1\u001b[39m\n\u001b[32m----> \u001b[39m\u001b[32m1\u001b[39m \u001b[43ml3\u001b[49m\n",
      "\u001b[31mNameError\u001b[39m: name 'l3' is not defined"
     ]
    }
   ],
   "source": [
    "l3"
   ]
  },
  {
   "cell_type": "code",
   "execution_count": 69,
   "id": "cd6073a5",
   "metadata": {},
   "outputs": [],
   "source": [
    "list1=[1,2,3,4,5,6,7,8,9,10]"
   ]
  },
  {
   "cell_type": "code",
   "execution_count": 83,
   "id": "9a6b3336",
   "metadata": {},
   "outputs": [
    {
     "name": "stdout",
     "output_type": "stream",
     "text": [
      "55\n"
     ]
    }
   ],
   "source": [
    "total=0\n",
    "eventotal=0\n",
    "oddtotal=0\n",
    "\n",
    "for i in list1:\n",
    "    if (i%2==0):\n",
    "        \n",
    "        eventotal+=i\n",
    "    else:\n",
    "        oddtotal+=i\n",
    "    total+=i\n",
    "print(total)"
   ]
  },
  {
   "cell_type": "code",
   "execution_count": null,
   "id": "40b321ca",
   "metadata": {},
   "outputs": [],
   "source": []
  },
  {
   "cell_type": "markdown",
   "id": "22fefb39",
   "metadata": {},
   "source": [
    "write a program to Generat list of prime number 1 ro 100"
   ]
  },
  {
   "cell_type": "code",
   "execution_count": null,
   "id": "ef9b8063",
   "metadata": {},
   "outputs": [],
   "source": [
    "create a list  of "
   ]
  }
 ],
 "metadata": {
  "kernelspec": {
   "display_name": "Python 3",
   "language": "python",
   "name": "python3"
  },
  "language_info": {
   "codemirror_mode": {
    "name": "ipython",
    "version": 3
   },
   "file_extension": ".py",
   "mimetype": "text/x-python",
   "name": "python",
   "nbconvert_exporter": "python",
   "pygments_lexer": "ipython3",
   "version": "3.11.7"
  }
 },
 "nbformat": 4,
 "nbformat_minor": 5
}
