{
 "cells": [
  {
   "cell_type": "code",
   "execution_count": 2,
   "id": "9e56051c",
   "metadata": {},
   "outputs": [],
   "source": [
    "import camelcase"
   ]
  },
  {
   "cell_type": "code",
   "execution_count": 3,
   "id": "07e8b662",
   "metadata": {},
   "outputs": [
    {
     "name": "stdout",
     "output_type": "stream",
     "text": [
      "This is Sentence That Need Camlcasing\n"
     ]
    }
   ],
   "source": [
    "from camelcase import CamelCase\n",
    "c=CamelCase()\n",
    "s= \"this is sentence that need camlcasing\"\n",
    "print(c.hump(s))"
   ]
  },
  {
   "cell_type": "code",
   "execution_count": null,
   "id": "44523972",
   "metadata": {},
   "outputs": [],
   "source": []
  },
  {
   "cell_type": "markdown",
   "id": "ee0f859a",
   "metadata": {},
   "source": [
    "import math "
   ]
  },
  {
   "cell_type": "code",
   "execution_count": null,
   "id": "12ad07c4",
   "metadata": {},
   "outputs": [],
   "source": []
  }
 ],
 "metadata": {
  "kernelspec": {
   "display_name": "Python 3",
   "language": "python",
   "name": "python3"
  },
  "language_info": {
   "codemirror_mode": {
    "name": "ipython",
    "version": 3
   },
   "file_extension": ".py",
   "mimetype": "text/x-python",
   "name": "python",
   "nbconvert_exporter": "python",
   "pygments_lexer": "ipython3",
   "version": "3.11.7"
  }
 },
 "nbformat": 4,
 "nbformat_minor": 5
}
