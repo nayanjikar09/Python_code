{
 "cells": [
  {
   "cell_type": "code",
   "execution_count": 1,
   "id": "081d229f",
   "metadata": {},
   "outputs": [],
   "source": [
    "def add(n1, n2):\n",
    "    result = n1 + n2\n",
    "    return result"
   ]
  },
  {
   "cell_type": "code",
   "execution_count": 2,
   "id": "605653d7",
   "metadata": {},
   "outputs": [],
   "source": [
    "def sub(n1, n2):\n",
    "    res = n1 - n2\n",
    "    return res"
   ]
  },
  {
   "cell_type": "code",
   "execution_count": 3,
   "id": "120b4076",
   "metadata": {},
   "outputs": [],
   "source": [
    "def div(n1, n2):\n",
    "    res = n1 // n2\n",
    "    return res"
   ]
  },
  {
   "cell_type": "code",
   "execution_count": 4,
   "id": "b910ba67",
   "metadata": {},
   "outputs": [],
   "source": [
    "def divi(n1, n2):\n",
    "    res = n1 / n2\n",
    "    return res"
   ]
  },
  {
   "cell_type": "code",
   "execution_count": 5,
   "id": "98313c9e",
   "metadata": {},
   "outputs": [],
   "source": [
    "def divis(n1, n2):\n",
    "    res = n1 % n2\n",
    "    return res"
   ]
  },
  {
   "cell_type": "code",
   "execution_count": 6,
   "id": "161d399f",
   "metadata": {},
   "outputs": [],
   "source": [
    "def sq(num):\n",
    "    return num ** 2"
   ]
  },
  {
   "cell_type": "code",
   "execution_count": 7,
   "id": "6bb80ebd",
   "metadata": {},
   "outputs": [],
   "source": [
    "def sqr(num):\n",
    "    return num ** 0.5"
   ]
  },
  {
   "cell_type": "code",
   "execution_count": 8,
   "id": "54206bb0",
   "metadata": {},
   "outputs": [],
   "source": [
    "def cube(num):\n",
    "    res = num ** 3\n",
    "    return res"
   ]
  },
  {
   "cell_type": "code",
   "execution_count": 9,
   "id": "e5638221",
   "metadata": {},
   "outputs": [],
   "source": [
    "def curt(num):\n",
    "    res = num ** (1/3)\n",
    "    return res"
   ]
  },
  {
   "cell_type": "code",
   "execution_count": 10,
   "id": "9007a367",
   "metadata": {},
   "outputs": [],
   "source": [
    "def CA(r):\n",
    "    a = 3.14 * r ** 2\n",
    "    return a"
   ]
  },
  {
   "cell_type": "code",
   "execution_count": 11,
   "id": "511494ef",
   "metadata": {},
   "outputs": [],
   "source": [
    "def SA(s):\n",
    "    return s ** s"
   ]
  },
  {
   "cell_type": "code",
   "execution_count": 12,
   "id": "ce90457d",
   "metadata": {},
   "outputs": [],
   "source": [
    "def RA(l, b):\n",
    "    return l * b"
   ]
  },
  {
   "cell_type": "code",
   "execution_count": 13,
   "id": "88a76944",
   "metadata": {},
   "outputs": [],
   "source": [
    "def TA(base, height):\n",
    "    return (1/2) * base * height"
   ]
  },
  {
   "cell_type": "code",
   "execution_count": null,
   "id": "d9076808",
   "metadata": {},
   "outputs": [],
   "source": []
  },
  {
   "cell_type": "code",
   "execution_count": null,
   "id": "d6872999",
   "metadata": {},
   "outputs": [
    {
     "name": "stdout",
     "output_type": "stream",
     "text": [
      "10\n",
      "(20, 30, 40, 50)\n"
     ]
    }
   ],
   "source": []
  },
  {
   "cell_type": "code",
   "execution_count": null,
   "id": "39168cdb",
   "metadata": {},
   "outputs": [],
   "source": []
  },
  {
   "cell_type": "code",
   "execution_count": null,
   "id": "d2dc1229",
   "metadata": {},
   "outputs": [],
   "source": []
  }
 ],
 "metadata": {
  "kernelspec": {
   "display_name": "Python 3",
   "language": "python",
   "name": "python3"
  },
  "language_info": {
   "codemirror_mode": {
    "name": "ipython",
    "version": 3
   },
   "file_extension": ".py",
   "mimetype": "text/x-python",
   "name": "python",
   "nbconvert_exporter": "python",
   "pygments_lexer": "ipython3",
   "version": "3.11.7"
  }
 },
 "nbformat": 4,
 "nbformat_minor": 5
}
